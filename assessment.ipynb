{
 "cells": [
  {
   "cell_type": "markdown",
   "metadata": {},
   "source": [
    "# Necessary Goals\n",
    "You will\n",
    "- Section01\n",
    "    - a. create a word counts dictionary\n",
    "    - b. find most common word\n",
    "- Section02\n",
    "    - a. calculate the mean and standard deviation of the word counts\n",
    "- Section03\n",
    "    - write a function that takes in a parameter to complete a task\n",
    "    - write a function that takes in multiple parameters to complete a task\n",
    "\n",
    "# Stretch Goals\n",
    "- write a function that solves a particular logical task\n",
    "- write a lambda function to complete a task"
   ]
  },
  {
   "cell_type": "code",
   "execution_count": null,
   "metadata": {},
   "outputs": [],
   "source": [
    "# just run this cell\n",
    "from importlib import reload\n",
    "import solutions.solutions as sol\n",
    "reload(sol)"
   ]
  },
  {
   "cell_type": "markdown",
   "metadata": {},
   "source": [
    "# Section 01: Strings\n",
    "Using the variable `lyrics` below, please solve the following questions"
   ]
  },
  {
   "cell_type": "code",
   "execution_count": 133,
   "metadata": {},
   "outputs": [
    {
     "data": {
      "text/plain": [
       "\"She'll only come out at nights\\nThe lean and hungry type\\nNothing is new\\nI've seen her here before\\nWatching and waiting\\nOoh, she's sittin' with you\\nBut her eyes are on the door\\n\\nSo many have paid to see\\nWhat you think\\nYou're gettin' for free\\nThe woman is wild\\nA she-cat tamed\\nBy the purr of a Jaguar\\nMoney's the matter\\nIf you're in it for love\\nYou ain't gonna get too far\\n\\n(Oh-oh, here she comes)\\nWatch out boy\\nShe'll chew you up\\n(Oh-oh, here she comes)\\nShe's a maneater\\n(Oh-oh, here she comes)\\nWatch out boy\\nShe'll chew you up\\n(Oh-oh, here she comes)\\nShe's a maneater\\n\\nI wouldn't if I were you\\nI know what she can do\\nShe's deadly man\\nAnd she could really rip your world apart\\nMind over matter\\nOoh, the beauty is there\\nBut a beast is in the heart\\n\\n(Oh-oh, here she comes)\\nWatch out boy\\nShe'll chew you up\\n(Oh-oh, here she comes)\\nShe's a maneater\\n(Oh-oh, here she comes)\\nWatch out boy\\nShe'll chew you up\\n(Oh-oh, here she comes)\\nShe's a maneater\\n\\n[Instrumental Interlude]\\n\\nOoooooooh\\n(Oh-oh, here she comes)\\nHere she comes\\nWatch out boy\\nShe'll chew you up\\n(Whoa-oh, here she comes\\n(Watch out) she's a maneater\\n(Oh-oh, here she comes)\\n(She's a maneater)\\nOoh, she'll chew you up\\n(Oh-oh, here she comes)\\nHere she comes, she's a maneater\\n(Oh-oh, here she comes)\\n(Watch out)\\nShe'll only come out at night, ooh-oh\\n(Oh-oh, here she comes)\\nHere she comes\\nShe's a maneater\\n(Oh-oh, here she comes)\\n(She's a maneater)\\nThe woman is wild, whoooa\\n(Oh-oh, here she comes)\\nHere she comes\\nWatch out boy, watch out boy\\n(Oh-oh, here she comes)\\nOh, watch out, watch out\\nWatch out, watch out\\n(Oh-oh, here she comes)\\n(Yeah, yeah) she's a maneater\\n(Oh-oh, here she comes)\\n(She's a maneater)\\nShe's watching and waiting, ooh-oh\\n(Oh-oh, here she comes)\\nOh, she's a maneater\""
      ]
     },
     "execution_count": 133,
     "metadata": {},
     "output_type": "execute_result"
    }
   ],
   "source": [
    "# this cell will just load and open the lyrics\n",
    "# just run this cell\n",
    "with open(\"data/lyrics.txt\", \"r\") as f:\n",
    "    lyrics = f.read()\n",
    "lyrics"
   ]
  },
  {
   "cell_type": "markdown",
   "metadata": {},
   "source": [
    "## S01 - Part A\n",
    "create a dictionary called `word_counter` that counts the number of words in `lyrics`.\n",
    "- remove all puntuation using `string punctuation`\n",
    "- lowercase the entire string\n",
    "- split by `\" \"`"
   ]
  },
  {
   "cell_type": "code",
   "execution_count": 134,
   "metadata": {},
   "outputs": [],
   "source": [
    "# build your word_counter here\n",
    "word_counter = None"
   ]
  },
  {
   "cell_type": "code",
   "execution_count": 135,
   "metadata": {},
   "outputs": [],
   "source": [
    "# get actual word_counter here\n",
    "word_counter_test = sol.section1_partA(lyrics)"
   ]
  },
  {
   "cell_type": "code",
   "execution_count": 136,
   "metadata": {},
   "outputs": [
    {
     "name": "stdout",
     "output_type": "stream",
     "text": [
      "word_counter does not equal word_counter_test\n"
     ]
    }
   ],
   "source": [
    "# Test your code here\n",
    "try:\n",
    "    assert word_counter==word_counter_test\n",
    "    print('test passed')\n",
    "except Exception as e:\n",
    "    print(\"word_counter does not equal word_counter_test\")"
   ]
  },
  {
   "cell_type": "markdown",
   "metadata": {},
   "source": [
    "## S01 - Part B"
   ]
  },
  {
   "cell_type": "code",
   "execution_count": 137,
   "metadata": {},
   "outputs": [],
   "source": [
    "# Find the word with the highest counts\n",
    "most_common_word = None"
   ]
  },
  {
   "cell_type": "code",
   "execution_count": 138,
   "metadata": {},
   "outputs": [],
   "source": [
    "# get actual most_common_word\n",
    "most_common_word_test = sol.section1_partB(lyrics)"
   ]
  },
  {
   "cell_type": "code",
   "execution_count": null,
   "metadata": {},
   "outputs": [],
   "source": [
    "# test your solution here\n",
    "try:\n",
    "    assert most_common_word==most_common_word_test\n",
    "    print('test passed')\n",
    "except Exception as e:\n",
    "    print(\"most_common_word does not equal most_common_word_test\")"
   ]
  },
  {
   "cell_type": "markdown",
   "metadata": {},
   "source": [
    "# Section 02: Mean and Standard Deviation\n",
    "using the dictionary `word_counter` from above, solve the following problems"
   ]
  },
  {
   "cell_type": "markdown",
   "metadata": {},
   "source": [
    "## S02 - Part A"
   ]
  },
  {
   "cell_type": "code",
   "execution_count": null,
   "metadata": {},
   "outputs": [],
   "source": [
    "# calculate the mean word counts\n",
    "mean_word_counts = None"
   ]
  },
  {
   "cell_type": "code",
   "execution_count": null,
   "metadata": {},
   "outputs": [],
   "source": [
    "# get actual mean word counts\n",
    "mean_word_counts_test = sol.section2_partA(lyrics)"
   ]
  },
  {
   "cell_type": "code",
   "execution_count": null,
   "metadata": {},
   "outputs": [],
   "source": [
    "# test your solution here\n",
    "try:\n",
    "    assert mean_word_counts==mean_word_counts_test\n",
    "    print('test passed')\n",
    "except Exception as e:\n",
    "    print(\"mean_word_counts does not equal mean_word_counts_test\")"
   ]
  },
  {
   "cell_type": "markdown",
   "metadata": {},
   "source": [
    "## S02 - Part B"
   ]
  },
  {
   "cell_type": "code",
   "execution_count": null,
   "metadata": {},
   "outputs": [],
   "source": [
    "# calculate the standard deviation of the word_counts\n",
    "std_word_counts = None"
   ]
  },
  {
   "cell_type": "code",
   "execution_count": null,
   "metadata": {},
   "outputs": [],
   "source": [
    "# get actual standard deviation of word counts\n",
    "std_word_counts_test = sol.section2_partB(lyrics)"
   ]
  },
  {
   "cell_type": "code",
   "execution_count": null,
   "metadata": {},
   "outputs": [],
   "source": [
    "# test your solution here\n",
    "try:\n",
    "    assert std_word_counts==std_word_counts_test\n",
    "    print('test passed')\n",
    "except Exception as e:\n",
    "    print(\"std_word_counts does not equal std_word_counts_test\")"
   ]
  },
  {
   "cell_type": "markdown",
   "metadata": {},
   "source": [
    "# Section03 - Functions"
   ]
  },
  {
   "cell_type": "markdown",
   "metadata": {},
   "source": [
    "## S03 - Part A"
   ]
  },
  {
   "cell_type": "code",
   "execution_count": null,
   "metadata": {},
   "outputs": [],
   "source": [
    "# write the function below\n",
    "def transform_odds(lst):\n",
    "    \"\"\"\n",
    "    this function should count\n",
    "    the number of odds in a list\n",
    "    then do the following calculation for every odd\n",
    "    - multiply each odd by 3\n",
    "    - add 1 to each odd number\n",
    "    return the sum of all of these numbers\n",
    "    \"\"\"\n",
    "    pass"
   ]
  },
  {
   "cell_type": "code",
   "execution_count": null,
   "metadata": {},
   "outputs": [],
   "source": [
    "# run cell to generate a list of 100 random numbers\n",
    "import random\n",
    "random_nums = [random.randint(0, 1000) for i in range(100)]"
   ]
  },
  {
   "cell_type": "code",
   "execution_count": null,
   "metadata": {},
   "outputs": [],
   "source": [
    "# run this cell to transform the random_numbers and store them to transformed_odds\n",
    "transformed_odds = transform_odds(random_nums)"
   ]
  },
  {
   "cell_type": "code",
   "execution_count": null,
   "metadata": {},
   "outputs": [],
   "source": [
    "# run this cell to get the actual value of transformed odds\n",
    "transformed_odds_test = sol.section3_partA(random_nums)"
   ]
  },
  {
   "cell_type": "code",
   "execution_count": null,
   "metadata": {},
   "outputs": [],
   "source": [
    "# test your solution here\n",
    "try:\n",
    "    assert transformed_odds==transformed_odds_test\n",
    "    print('test passed')\n",
    "except Exception as e:\n",
    "    print(\"transformed_odds does not equal transformed_odds_test\")"
   ]
  },
  {
   "cell_type": "markdown",
   "metadata": {},
   "source": [
    "## S03 - Part B"
   ]
  },
  {
   "cell_type": "code",
   "execution_count": null,
   "metadata": {},
   "outputs": [],
   "source": [
    "# write a function that checks the numbers in a list numbers\n",
    "# and checks if any of the numbers are divisible in a list of divisors divisors\n",
    "# it should return the all numbers in order they're given in the list \n",
    "# as a string\n",
    "\n",
    "def find_if_divisible(numbers, divisors):\n",
    "    \"\"\"\n",
    "    Example: \n",
    "    find_if_divisible([10, 19, 15, 20, 23, 30, 50, 100], [2, 8, 5])\n",
    "    should return \n",
    "    \"1015203050100\"\n",
    "    \n",
    "    since all of these numbers are divisible by at least one number in the divisors list\n",
    "    \"\"\"\n",
    "    pass"
   ]
  },
  {
   "cell_type": "code",
   "execution_count": null,
   "metadata": {},
   "outputs": [],
   "source": [
    "# run this cell to get a random set of numbers and divisors\n",
    "numbers = [random.randint(0, 50) for i in range(200)]\n",
    "divisors = [random.randint(1, 20) for i in range(5)]"
   ]
  },
  {
   "cell_type": "code",
   "execution_count": null,
   "metadata": {},
   "outputs": [],
   "source": [
    "# get your solution for the random numbers above\n",
    "number_string = find_if_divisible(numbers=numbers, divisors=divisors)"
   ]
  },
  {
   "cell_type": "code",
   "execution_count": null,
   "metadata": {},
   "outputs": [],
   "source": [
    "# get the actual solution for the random numbers above\n",
    "number_string_test = sol.section3_partB(numbers, divisors)"
   ]
  },
  {
   "cell_type": "code",
   "execution_count": null,
   "metadata": {},
   "outputs": [],
   "source": [
    "# test your solution here\n",
    "try:\n",
    "    assert number_string==number_string_test\n",
    "    print('passed test')\n",
    "except Exception as e:\n",
    "    print(\"number_string does not equal number_string_test\")"
   ]
  },
  {
   "cell_type": "markdown",
   "metadata": {},
   "source": [
    "# Level Up (Optional) Problems"
   ]
  },
  {
   "cell_type": "markdown",
   "metadata": {},
   "source": [
    "## Level Up - Part A"
   ]
  },
  {
   "cell_type": "code",
   "execution_count": null,
   "metadata": {},
   "outputs": [],
   "source": [
    "def is_prime(n):\n",
    "    \"\"\"\n",
    "    write a function that determines if a number is prime\n",
    "    return True if n is prime else return False\n",
    "    \n",
    "    a number, n, is prime if the only divisors of the number are 1 and n \n",
    "    \"\"\"\n",
    "    pass"
   ]
  },
  {
   "cell_type": "code",
   "execution_count": null,
   "metadata": {},
   "outputs": [],
   "source": [
    "# run all tests in this cell\n",
    "random_nums = [random.randint(5, 50) for i in range(10)]\n",
    "for n in random_nums:\n",
    "    actual_result = is_prime(n)\n",
    "    expected_result = sol.levelUp_partA(n)\n",
    "    try:\n",
    "        assert expected_result==actual_result\n",
    "        print('test passed')\n",
    "    except Exception as e:\n",
    "        print(\"expected_result does not equal actual_result\")\n",
    "        print(f\"{n}  is {'NOT'*(1-expected_result)} prime but you returned {actual_result}\")"
   ]
  },
  {
   "cell_type": "markdown",
   "metadata": {},
   "source": [
    "## Level Up - Part B"
   ]
  },
  {
   "cell_type": "code",
   "execution_count": null,
   "metadata": {},
   "outputs": [],
   "source": [
    "# complete this function\n",
    "def find_common_elements(lst1, lst2):\n",
    "    \"\"\"\n",
    "    write a function that returns a set\n",
    "    of all of the elements that are in both\n",
    "    lst 1 and lst2\n",
    "    \n",
    "    Example\n",
    "    input:\n",
    "       - lst1 = [2, 3, 5, 3, 5, 3]\n",
    "       - lst2 = [3, 5, 6]\n",
    "       \n",
    "    return:\n",
    "       - (3, 5)\n",
    "    \"\"\"\n",
    "    pass"
   ]
  },
  {
   "cell_type": "code",
   "execution_count": null,
   "metadata": {},
   "outputs": [],
   "source": [
    "# run the following tests\n",
    "for i in range(10):\n",
    "    lst1 = [random.randint(0, 100) for i in range(random.randint(15, 20))]\n",
    "    lst2 = [random.randint(0, 100) for i in range(random.randint(15, 20))]\n",
    "    actual_result = find_common_elements(lst1, lst2)\n",
    "    expected_result = sol.levelUp_partB(lst1, lst2)\n",
    "    try:\n",
    "        assert expected_result==actual_result\n",
    "        print('test passed')\n",
    "    except Exception as e:\n",
    "        print(\"expected_result does not equal actual_result\")"
   ]
  },
  {
   "cell_type": "markdown",
   "metadata": {},
   "source": [
    "## Level Up - Part C"
   ]
  },
  {
   "cell_type": "code",
   "execution_count": null,
   "metadata": {},
   "outputs": [],
   "source": [
    "# write a lambda function called rng that returns the range of a list of numbers\n",
    "rng = lambda lst: max(lst) - min(lst)"
   ]
  },
  {
   "cell_type": "code",
   "execution_count": null,
   "metadata": {},
   "outputs": [],
   "source": [
    "# run these tests\n",
    "try:\n",
    "    assert '<lambda>'==rng.__name__\n",
    "    print(\"rng is a lambda function! great work so far\")\n",
    "    print(\"running 10 random tests now\")\n",
    "    print(\"-\"*50)\n",
    "    for i in range(10):\n",
    "        lst = [random.randint(-1000, 1000) for i in range(random.randint(10, 20))]\n",
    "        actual_range = rng(lst)\n",
    "        expected_range = sol.levelUp_partC(lst)\n",
    "        try:\n",
    "            assert actual_range==expected_range\n",
    "            print('test passed, ranges are equal')\n",
    "        except:\n",
    "            print(\"expected_result does not equal actual_result\")\n",
    "    \n",
    "except:\n",
    "    print(\"rng is not a lambda function, must be a lambda function to continue\")"
   ]
  }
 ],
 "metadata": {
  "kernelspec": {
   "display_name": "Python [conda env:flatiron-env] *",
   "language": "python",
   "name": "conda-env-flatiron-env-py"
  },
  "language_info": {
   "codemirror_mode": {
    "name": "ipython",
    "version": 3
   },
   "file_extension": ".py",
   "mimetype": "text/x-python",
   "name": "python",
   "nbconvert_exporter": "python",
   "pygments_lexer": "ipython3",
   "version": "3.6.0"
  }
 },
 "nbformat": 4,
 "nbformat_minor": 2
}
